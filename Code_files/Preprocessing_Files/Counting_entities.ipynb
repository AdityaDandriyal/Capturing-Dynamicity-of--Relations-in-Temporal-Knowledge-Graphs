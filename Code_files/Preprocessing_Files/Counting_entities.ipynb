{
  "nbformat": 4,
  "nbformat_minor": 0,
  "metadata": {
    "colab": {
      "provenance": []
    },
    "kernelspec": {
      "name": "python3",
      "display_name": "Python 3"
    },
    "language_info": {
      "name": "python"
    }
  },
  "cells": [
    {
      "cell_type": "code",
      "execution_count": null,
      "metadata": {
        "colab": {
          "base_uri": "https://localhost:8080/"
        },
        "id": "kUG8dtGl7__G",
        "outputId": "bd063689-9a32-4cb3-a2ba-396c2b29d963"
      },
      "outputs": [
        {
          "output_type": "stream",
          "name": "stdout",
          "text": [
            "Beverly_Adams\twasBornIn\tEdmonton\t1945-11-07\t1945-11-07\n",
            "Al_Gore\twasBornIn\tWashington,_D.C.\t1948-03-31\t1948-03-31\n",
            "Donald_R._McMonagle\twasBornIn\tFlint,_Michigan\t1952-05-14\t1952-05-14\n",
            "Donald_B._Beary\twasBornIn\tHelena,_Montana\t1888-12-04\t1888-12-04\n",
            "Ida_Halpern\twasBornIn\tVienna\t1910-07-17\t1910-07-17\n",
            "João_Paiva\twasBornIn\tLisbon\t1983-02-08\t1983-02-08\n",
            "Vincent_Wong_(Hong_Kong_actor)\twasBornIn\tHong_Kong\t1983-07-07\t1983-07-07\n",
            "Julie_Bishop_(actress)\twasBornIn\tDenver\t1914-08-30\t1914-08-30\n",
            "Bradley_Cooper\twasBornIn\tPhiladelphia\t1975-01-05\t1975-01-05\n",
            "José_Gonçalves_(footballer)\twasBornIn\tLisbon\t1985-09-17\t1985-09-17\n",
            "Harry_Weese\twasBornIn\tEvanston,_Illinois\t1915-06-30\t1915-06-30\n",
            "Roger_MacBride\twasBornIn\tNew_Rochelle,_New_York\t1929-08-06\t1929-08-06\n",
            "James_Neill\twasBornIn\tSavannah,_Georgia\t1860-09-29\t1860-09-29\n",
            "Wendy_Moniz\twasBornIn\tKansas_City,_Missouri\t1969-01-19\t1969-01-19\n",
            "Rob_Wagner\twasBornIn\tDetroit\t1872-08-02\t1872-08-02\n"
          ]
        }
      ],
      "source": [
        "# Specify the file path\n",
        "file_path = '/content/drive/MyDrive/hyte_text_data.txt'\n",
        "\n",
        "# Specify the number of lines to read\n",
        "num_lines_to_read = 15\n",
        "\n",
        "# Open the file in read mode ('r')\n",
        "with open(file_path, 'r') as file:\n",
        "    # Read the specified number of lines\n",
        "    for _ in range(num_lines_to_read):\n",
        "        line = file.readline()\n",
        "\n",
        "        # Check if the line is not empty (end of file)\n",
        "        if not line:\n",
        "            break\n",
        "\n",
        "        # Process or print the line\n",
        "        print(line.strip())"
      ]
    },
    {
      "cell_type": "code",
      "source": [
        "def count_unique_values(input_file_path, column_index):\n",
        "    unique_values = set()\n",
        "\n",
        "    with open(input_file_path, 'r') as input_file:\n",
        "        for line in input_file:\n",
        "            elements = line.strip().split('\\t')\n",
        "            if len(elements) > column_index:\n",
        "                unique_values.add(elements[column_index])\n",
        "\n",
        "    return len(unique_values)\n",
        "\n",
        "# Example usage\n",
        "input_file_path = '/content/drive/MyDrive/hyte_text_data.txt'  # Replace with your actual input file path\n",
        "\n",
        "# Count unique values in the first column (column_index=0)\n",
        "unique_values_first_column = count_unique_values(input_file_path, 0)\n",
        "print(f\"Number of unique values in the first column: {unique_values_first_column}\")\n",
        "\n",
        "# Count unique values in the third column (column_index=2)\n",
        "unique_values_third_column = count_unique_values(input_file_path, 2)\n",
        "print(f\"Number of unique values in the third column: {unique_values_third_column}\")"
      ],
      "metadata": {
        "colab": {
          "base_uri": "https://localhost:8080/"
        },
        "id": "HpUokiZw8JZL",
        "outputId": "984ed245-bdc2-409a-bc96-8ca4238fdd64"
      },
      "execution_count": null,
      "outputs": [
        {
          "output_type": "stream",
          "name": "stdout",
          "text": [
            "Number of unique values in the first column: 6498\n",
            "Number of unique values in the third column: 6351\n"
          ]
        }
      ]
    },
    {
      "cell_type": "code",
      "source": [
        "# Specify the file path\n",
        "file_path = '/content/drive/MyDrive/TEMPORAL_filtered_literal_data.txt'\n",
        "\n",
        "# Specify the number of lines to read\n",
        "num_lines_to_read = 15\n",
        "\n",
        "# Open the file in read mode ('r')\n",
        "with open(file_path, 'r') as file:\n",
        "    # Read the specified number of lines\n",
        "    for _ in range(num_lines_to_read):\n",
        "        line = file.readline()\n",
        "\n",
        "        # Check if the line is not empty (end of file)\n",
        "        if not line:\n",
        "            break\n",
        "\n",
        "        # Process or print the line\n",
        "        print(line.strip())"
      ],
      "metadata": {
        "colab": {
          "base_uri": "https://localhost:8080/"
        },
        "id": "Ct1U9kIz8JcL",
        "outputId": "a29e0539-16e3-43b2-d7cc-8bcb16e5400d"
      },
      "execution_count": null,
      "outputs": [
        {
          "output_type": "stream",
          "name": "stdout",
          "text": [
            "Jens_Petersen\twasBornOnDate\t1941\t1941\t1941\n",
            "Avery_Brundage\tdiedOnDate\t1975\t1975\t1975\n",
            "Werner_Herzog\twasBornOnDate\t1942\t1942\t1942\n",
            "Ngaio_Marsh\twasCreatedOnDate\t2010\t2010\t2010\n",
            "Layne_Staley\twasDestroyedOnDate\t1987\t1987\t1987\n",
            "Anne_of_Austria,_Queen_of_Poland\tdiedOnDate\t1598\t1598\t1598\n",
            "Alessandro_Manzoni\tdiedOnDate\t1873\t1873\t1873\n",
            "Cornelius_Castoriadis\twasCreatedOnDate\t2000\t2000\t2000\n",
            "Bradley_Bell\twasBornOnDate\t1964\t1964\t1964\n",
            "Joseph_Jackson_(screenwriter)\twasBornOnDate\t1894\t1894\t1894\n",
            "Sidney_Luft\tdiedOnDate\t2005\t2005\t2005\n",
            "Dewi_Zephaniah_Phillips\tdiedOnDate\t2006\t2006\t2006\n",
            "Erskine_Hamilton_Childers\tdiedOnDate\t1974\t1974\t1974\n",
            "Luigi_Ferrero\twasBornOnDate\t1904\t1904\t1904\n",
            "John_Fante\tdiedOnDate\t1983\t1983\t1983\n"
          ]
        }
      ]
    },
    {
      "cell_type": "code",
      "source": [
        "def count_unique_values(input_file_path, column_index):\n",
        "    unique_values = set()\n",
        "\n",
        "    with open(input_file_path, 'r') as input_file:\n",
        "        for line in input_file:\n",
        "            elements = line.strip().split('\\t')\n",
        "            if len(elements) > column_index:\n",
        "                unique_values.add(elements[column_index])\n",
        "\n",
        "    return len(unique_values)\n",
        "\n",
        "# Example usage\n",
        "input_file_path = '/content/drive/MyDrive/TEMPORAL_filtered_literal_data.txt'  # Replace with your actual input file path\n",
        "\n",
        "# Count unique values in the first column (column_index=0)\n",
        "unique_values_first_column = count_unique_values(input_file_path, 0)\n",
        "print(f\"Number of unique values in the first column: {unique_values_first_column}\")\n",
        "\n",
        "# Count unique values in the third column (column_index=2)\n",
        "unique_values_third_column = count_unique_values(input_file_path, 2)\n",
        "print(f\"Number of unique values in the third column: {unique_values_third_column}\")"
      ],
      "metadata": {
        "colab": {
          "base_uri": "https://localhost:8080/"
        },
        "id": "NzPSH28-8FLL",
        "outputId": "7086e568-7fb2-41a5-ed00-cc43d094d1f2"
      },
      "execution_count": null,
      "outputs": [
        {
          "output_type": "stream",
          "name": "stdout",
          "text": [
            "Number of unique values in the first column: 17948\n",
            "Number of unique values in the third column: 1270\n"
          ]
        }
      ]
    },
    {
      "cell_type": "code",
      "source": [
        "# Specify the file path\n",
        "file_path = '/content/drive/MyDrive/combined_data.txt'\n",
        "\n",
        "# Specify the number of lines to read\n",
        "num_lines_to_read = 15\n",
        "\n",
        "# Open the file in read mode ('r')\n",
        "with open(file_path, 'r') as file:\n",
        "    # Read the specified number of lines\n",
        "    for _ in range(num_lines_to_read):\n",
        "        line = file.readline()\n",
        "\n",
        "        # Check if the line is not empty (end of file)\n",
        "        if not line:\n",
        "            break\n",
        "\n",
        "        # Process or print the line\n",
        "        print(line.strip())"
      ],
      "metadata": {
        "colab": {
          "base_uri": "https://localhost:8080/"
        },
        "id": "UDM97zc-8FOL",
        "outputId": "51d50366-9bf1-4a0b-de56-e48c52ffd53b"
      },
      "execution_count": null,
      "outputs": [
        {
          "output_type": "stream",
          "name": "stdout",
          "text": [
            "Beverly_Adams\twasBornIn\tEdmonton\t1945-11-07\t1945-11-07\n",
            "Al_Gore\twasBornIn\tWashington,_D.C.\t1948-03-31\t1948-03-31\n",
            "Donald_R._McMonagle\twasBornIn\tFlint,_Michigan\t1952-05-14\t1952-05-14\n",
            "Donald_B._Beary\twasBornIn\tHelena,_Montana\t1888-12-04\t1888-12-04\n",
            "Ida_Halpern\twasBornIn\tVienna\t1910-07-17\t1910-07-17\n",
            "João_Paiva\twasBornIn\tLisbon\t1983-02-08\t1983-02-08\n",
            "Vincent_Wong_(Hong_Kong_actor)\twasBornIn\tHong_Kong\t1983-07-07\t1983-07-07\n",
            "Julie_Bishop_(actress)\twasBornIn\tDenver\t1914-08-30\t1914-08-30\n",
            "Bradley_Cooper\twasBornIn\tPhiladelphia\t1975-01-05\t1975-01-05\n",
            "José_Gonçalves_(footballer)\twasBornIn\tLisbon\t1985-09-17\t1985-09-17\n",
            "Harry_Weese\twasBornIn\tEvanston,_Illinois\t1915-06-30\t1915-06-30\n",
            "Roger_MacBride\twasBornIn\tNew_Rochelle,_New_York\t1929-08-06\t1929-08-06\n",
            "James_Neill\twasBornIn\tSavannah,_Georgia\t1860-09-29\t1860-09-29\n",
            "Wendy_Moniz\twasBornIn\tKansas_City,_Missouri\t1969-01-19\t1969-01-19\n",
            "Rob_Wagner\twasBornIn\tDetroit\t1872-08-02\t1872-08-02\n"
          ]
        }
      ]
    },
    {
      "cell_type": "code",
      "source": [
        "def count_unique_values(input_file_path, column_index):\n",
        "    unique_values = set()\n",
        "\n",
        "    with open(input_file_path, 'r') as input_file:\n",
        "        for line in input_file:\n",
        "            elements = line.strip().split('\\t')\n",
        "            if len(elements) > column_index:\n",
        "                unique_values.add(elements[column_index])\n",
        "\n",
        "    return len(unique_values)\n",
        "\n",
        "# Example usage\n",
        "input_file_path = '/content/drive/MyDrive/combined_data.txt'  # Replace with your actual input file path\n",
        "\n",
        "# Count unique values in the first column (column_index=0)\n",
        "unique_values_first_column = count_unique_values(input_file_path, 0)\n",
        "print(f\"Number of unique values in the first column: {unique_values_first_column}\")\n",
        "\n",
        "# Count unique values in the third column (column_index=2)\n",
        "unique_values_third_column = count_unique_values(input_file_path, 2)\n",
        "print(f\"Number of unique values in the third column: {unique_values_third_column}\")"
      ],
      "metadata": {
        "colab": {
          "base_uri": "https://localhost:8080/"
        },
        "id": "xixWYyGU8FRb",
        "outputId": "cacf475e-3ce4-4c89-f237-05dfdea8d486"
      },
      "execution_count": null,
      "outputs": [
        {
          "output_type": "stream",
          "name": "stdout",
          "text": [
            "Number of unique values in the first column: 23488\n",
            "Number of unique values in the third column: 7621\n"
          ]
        }
      ]
    },
    {
      "cell_type": "code",
      "source": [
        "def count_unique_values(input_file_path, column_index):\n",
        "    unique_values = set()\n",
        "\n",
        "    with open(input_file_path, 'r') as input_file:\n",
        "        for line in input_file:\n",
        "            elements = line.strip().split('\\t')\n",
        "            if len(elements) > column_index:\n",
        "                unique_values.add(elements[column_index])\n",
        "\n",
        "    return len(unique_values)\n",
        "\n",
        "# Example usage\n",
        "input_file_path = '/content/drive/MyDrive/class_triple2id.txt'  # Replace with your actual input file path\n",
        "\n",
        "# Count unique values in the first column (column_index=0)\n",
        "unique_values_first_column = count_unique_values(input_file_path, 0)\n",
        "print(f\"Number of unique values in the first column: {unique_values_first_column}\")\n",
        "\n",
        "# Count unique values in the third column (column_index=2)\n",
        "unique_values_third_column = count_unique_values(input_file_path, 2)\n",
        "print(f\"Number of unique values in the third column: {unique_values_third_column}\")"
      ],
      "metadata": {
        "colab": {
          "base_uri": "https://localhost:8080/"
        },
        "id": "jGAX0z1r8FUb",
        "outputId": "a55c7a63-cd56-4e80-a82f-748cf29f2c76"
      },
      "execution_count": null,
      "outputs": [
        {
          "output_type": "stream",
          "name": "stdout",
          "text": [
            "Number of unique values in the first column: 23488\n",
            "Number of unique values in the third column: 6372\n"
          ]
        }
      ]
    },
    {
      "cell_type": "code",
      "source": [
        "def count_unique_values(input_file_path, column_index):\n",
        "    unique_values = set()\n",
        "\n",
        "    with open(input_file_path, 'r') as input_file:\n",
        "        for line in input_file:\n",
        "            elements = line.strip().split('\\t')\n",
        "            if len(elements) > column_index:\n",
        "                unique_values.add(elements[column_index])\n",
        "\n",
        "    return len(unique_values)\n",
        "\n",
        "# Example usage\n",
        "input_file_path = '/content/drive/MyDrive/sle_triple2id.txt'  # Replace with your actual input file path\n",
        "\n",
        "# Count unique values in the first column (column_index=0)\n",
        "unique_values_first_column = count_unique_values(input_file_path, 0)\n",
        "print(f\"Number of unique values in the first column: {unique_values_first_column}\")\n",
        "\n",
        "# Count unique values in the third column (column_index=2)\n",
        "unique_values_third_column = count_unique_values(input_file_path, 2)\n",
        "print(f\"Number of unique values in the third column: {unique_values_third_column}\")"
      ],
      "metadata": {
        "id": "I8mLnKpF8FXs"
      },
      "execution_count": null,
      "outputs": []
    },
    {
      "cell_type": "code",
      "source": [],
      "metadata": {
        "id": "chyfIGLr8Ffl"
      },
      "execution_count": null,
      "outputs": []
    },
    {
      "cell_type": "code",
      "source": [],
      "metadata": {
        "id": "5ssBKD1w8FiU"
      },
      "execution_count": null,
      "outputs": []
    },
    {
      "cell_type": "code",
      "source": [],
      "metadata": {
        "id": "_HFWSOpl8FlD"
      },
      "execution_count": null,
      "outputs": []
    }
  ]
}