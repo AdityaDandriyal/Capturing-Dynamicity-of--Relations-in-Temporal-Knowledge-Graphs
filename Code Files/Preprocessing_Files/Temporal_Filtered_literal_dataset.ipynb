{
  "nbformat": 4,
  "nbformat_minor": 0,
  "metadata": {
    "colab": {
      "provenance": []
    },
    "kernelspec": {
      "name": "python3",
      "display_name": "Python 3"
    },
    "language_info": {
      "name": "python"
    }
  },
  "cells": [
    {
      "cell_type": "code",
      "execution_count": null,
      "metadata": {
        "colab": {
          "base_uri": "https://localhost:8080/"
        },
        "id": "XYtWYyEijjFF",
        "outputId": "7a4ffd71-8024-4c2d-a175-75c956d3910d"
      },
      "outputs": [
        {
          "output_type": "stream",
          "name": "stdout",
          "text": [
            "Charlie_Hartfield\twasBornOnDate\t1971\n",
            "Sven_Ratke\twasBornOnDate\t1972\n",
            "Jens_Petersen\twasBornOnDate\t1941\n",
            "Brian_Linighan\twasBornOnDate\t1973\n",
            "Rick_Scott\twasBornOnDate\t1952\n",
            "Tomi_Petrescu\twasBornOnDate\t1986\n",
            "Avery_Brundage\tdiedOnDate\t1975\n",
            "Werner_Herzog\twasBornOnDate\t1942\n",
            "Ngaio_Marsh\twasCreatedOnDate\t2010\n",
            "Berry_Gordy\twasBornOnDate\t1929\n",
            "Anderson_Conceição_Xavier\twasBornOnDate\t1980\n",
            "Caldwell,_New_Jersey\twasCreatedOnDate\t1892\n",
            "Andreas_Avraam\twasBornOnDate\t1987\n",
            "Tia_Carrere\twasBornOnDate\t1967\n",
            "Giants_vs._Yanks\twasCreatedOnDate\t1923\n"
          ]
        }
      ],
      "source": [
        "# Specify the file path\n",
        "file_path = '/content/drive/MyDrive/numerical_literals.txt'\n",
        "\n",
        "# Specify the number of lines to read\n",
        "num_lines_to_read = 15\n",
        "\n",
        "# Open the file in read mode ('r')\n",
        "with open(file_path, 'r') as file:\n",
        "    # Read the specified number of lines\n",
        "    for _ in range(num_lines_to_read):\n",
        "        line = file.readline()\n",
        "\n",
        "        # Check if the line is not empty (end of file)\n",
        "        if not line:\n",
        "            break\n",
        "\n",
        "        # Process or print the line\n",
        "        print(line.strip())"
      ]
    },
    {
      "cell_type": "code",
      "source": [
        "def copy_lines_with_repeated_values(input_file_path, output_file_path):\n",
        "    # Dictionary to store counts of first column values\n",
        "    counts = {}\n",
        "\n",
        "    # Read the content of the input file\n",
        "    with open(input_file_path, 'r') as input_file:\n",
        "        lines = input_file.readlines()\n",
        "\n",
        "    # Iterate through lines to count occurrences\n",
        "    for line in lines:\n",
        "        value = line.split('\\t')[0]  # Assuming columns are tab-separated\n",
        "        counts[value] = counts.get(value, 0) + 1\n",
        "\n",
        "    # Write lines with repeated values to the output file\n",
        "    with open(output_file_path, 'w') as output_file:\n",
        "        for line in lines:\n",
        "            value = line.split('\\t')[0]  # Assuming columns are tab-separated\n",
        "            if counts[value] > 1:\n",
        "                output_file.write(line)\n",
        "\n",
        "# Define file paths\n",
        "input_file_path = '/content/drive/MyDrive/numerical_literals.txt'\n",
        "output_file_path = '/content/drive/MyDrive/filtered_literal_data.txt'\n",
        "\n",
        "# Copy lines with repeated values to the output file\n",
        "copy_lines_with_repeated_values(input_file_path, output_file_path)"
      ],
      "metadata": {
        "id": "SMiab0aMuwlV"
      },
      "execution_count": null,
      "outputs": []
    },
    {
      "cell_type": "code",
      "source": [
        "def fix_date_format(input_file_path, output_file_path):\n",
        "    # Read the content of the input file\n",
        "    with open(input_file_path, 'r') as input_file:\n",
        "        lines = input_file.readlines()\n",
        "\n",
        "    # Fix date format in the third column\n",
        "    fixed_lines = [fix_date(line) for line in lines]\n",
        "\n",
        "    # Write the fixed lines to the output file\n",
        "    with open(output_file_path, 'w') as output_file:\n",
        "        output_file.writelines(fixed_lines)\n",
        "\n",
        "def fix_date(line):\n",
        "    # Split the line into columns\n",
        "    columns = line.split()\n",
        "\n",
        "    # Check if the date in the third column has a length of 3\n",
        "    if len(columns) >= 3 and len(columns[2]) == 3:\n",
        "        # Add a zero before the date to make its length 4\n",
        "        columns[2] = '0' + columns[2]\n",
        "\n",
        "    # Join the columns back into a line\n",
        "    return '\\t'.join(columns) + '\\n'\n",
        "\n",
        "# Define file paths\n",
        "input_file_path = '/content/drive/MyDrive/filtered_literal_data.txt'\n",
        "output_file_path = '/content/drive/MyDrive/filtered_literal_data.txt'\n",
        "\n",
        "# Fix date format in the third column\n",
        "fix_date_format(input_file_path, output_file_path)"
      ],
      "metadata": {
        "id": "ZXjZ5_DFuwpE"
      },
      "execution_count": null,
      "outputs": []
    },
    {
      "cell_type": "code",
      "source": [
        "def duplicate_last_column_for_repeated_values(input_file_path, output_file_path):\n",
        "    # Dictionary to store counts of first column values\n",
        "    counts = {}\n",
        "\n",
        "    # Read the content of the input file\n",
        "    with open(input_file_path, 'r') as input_file:\n",
        "        lines = input_file.readlines()\n",
        "\n",
        "\n",
        "    # Write lines with repeated values and duplicated last column to the output file\n",
        "    with open(output_file_path, 'w') as output_file:\n",
        "        for line in lines:\n",
        "          dup_ele = (line.split().copy())[-1]\n",
        "          output_file.write(line.strip() + '\\t' + dup_ele + '\\t' + dup_ele + '\\n')\n",
        "\n",
        "# Define file paths\n",
        "input_file_path = '/content/drive/MyDrive/filtered_literal_data.txt'\n",
        "output_file_path = '/content/drive/MyDrive/TEMPORAL_filtered_literal_data.txt'\n",
        "\n",
        "# Duplicate last column for lines with repeated values to the output file\n",
        "duplicate_last_column_for_repeated_values(input_file_path, output_file_path)"
      ],
      "metadata": {
        "id": "oyRnP4mh9DUr"
      },
      "execution_count": null,
      "outputs": []
    },
    {
      "cell_type": "code",
      "source": [
        "sorted_years"
      ],
      "metadata": {
        "id": "7I66erQruwwH"
      },
      "execution_count": null,
      "outputs": []
    }
  ]
}